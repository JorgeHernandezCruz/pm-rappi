{
 "cells": [
  {
   "cell_type": "code",
   "execution_count": 106,
   "id": "5e8b5134-f43e-4685-a0fe-b58cf97a718a",
   "metadata": {},
   "outputs": [],
   "source": [
    "#!pip install docxtpl -q Instalar con el siguiente comando esa libreria\n",
    "import pandas as pd\n",
    "import numpy as np\n",
    "from datetime import datetime\n",
    "from docxtpl import DocxTemplate"
   ]
  },
  {
   "cell_type": "code",
   "execution_count": 107,
   "id": "f6347fb0",
   "metadata": {},
   "outputs": [],
   "source": [
    "#Mandamos a cargar el documento plantilla y se guarda en la variable DOC\n",
    "doc = DocxTemplate(\"plantilla.docx\")"
   ]
  },
  {
   "cell_type": "code",
   "execution_count": 108,
   "id": "008c233f",
   "metadata": {},
   "outputs": [],
   "source": [
    "#Valores constantes que tendra el PM\n",
    "ciudad = 'Puebla'\n",
    "fecha = datetime.today().strftime(\"%d/%m/%Y\")\n",
    "#guardamos valores constantes en diccionario para poderlos agregar al doc\n",
    "constantes = {\"ciudad\":ciudad, \"fecha\":fecha}"
   ]
  },
  {
   "cell_type": "code",
   "execution_count": 109,
   "id": "79d77acb",
   "metadata": {},
   "outputs": [
    {
     "data": {
      "text/html": [
       "<div>\n",
       "<style scoped>\n",
       "    .dataframe tbody tr th:only-of-type {\n",
       "        vertical-align: middle;\n",
       "    }\n",
       "\n",
       "    .dataframe tbody tr th {\n",
       "        vertical-align: top;\n",
       "    }\n",
       "\n",
       "    .dataframe thead th {\n",
       "        text-align: right;\n",
       "    }\n",
       "</style>\n",
       "<table border=\"1\" class=\"dataframe\">\n",
       "  <thead>\n",
       "    <tr style=\"text-align: right;\">\n",
       "      <th></th>\n",
       "      <th>Year</th>\n",
       "      <th>Month</th>\n",
       "      <th>Day</th>\n",
       "      <th>CANCEL_RATE</th>\n",
       "      <th>CANCEL_ORDERS</th>\n",
       "      <th>TOTAL_ORDERS</th>\n",
       "      <th>CATEGORY</th>\n",
       "    </tr>\n",
       "  </thead>\n",
       "  <tbody>\n",
       "    <tr>\n",
       "      <th>0</th>\n",
       "      <td>2024</td>\n",
       "      <td>December</td>\n",
       "      <td>2</td>\n",
       "      <td>0,00 %</td>\n",
       "      <td>0</td>\n",
       "      <td>56033</td>\n",
       "      <td>Finished</td>\n",
       "    </tr>\n",
       "    <tr>\n",
       "      <th>1</th>\n",
       "      <td>2024</td>\n",
       "      <td>December</td>\n",
       "      <td>2</td>\n",
       "      <td>0,24 %</td>\n",
       "      <td>136</td>\n",
       "      <td>56033</td>\n",
       "      <td>Other</td>\n",
       "    </tr>\n",
       "    <tr>\n",
       "      <th>2</th>\n",
       "      <td>2024</td>\n",
       "      <td>December</td>\n",
       "      <td>2</td>\n",
       "      <td>0,44 %</td>\n",
       "      <td>247</td>\n",
       "      <td>56033</td>\n",
       "      <td>Partner</td>\n",
       "    </tr>\n",
       "    <tr>\n",
       "      <th>3</th>\n",
       "      <td>2024</td>\n",
       "      <td>December</td>\n",
       "      <td>2</td>\n",
       "      <td>1,28 %</td>\n",
       "      <td>715</td>\n",
       "      <td>56033</td>\n",
       "      <td>RT</td>\n",
       "    </tr>\n",
       "    <tr>\n",
       "      <th>4</th>\n",
       "      <td>2024</td>\n",
       "      <td>December</td>\n",
       "      <td>2</td>\n",
       "      <td>0,29 %</td>\n",
       "      <td>162</td>\n",
       "      <td>56033</td>\n",
       "      <td>Tech</td>\n",
       "    </tr>\n",
       "    <tr>\n",
       "      <th>5</th>\n",
       "      <td>2024</td>\n",
       "      <td>December</td>\n",
       "      <td>2</td>\n",
       "      <td>0,69 %</td>\n",
       "      <td>384</td>\n",
       "      <td>56033</td>\n",
       "      <td>User</td>\n",
       "    </tr>\n",
       "    <tr>\n",
       "      <th>6</th>\n",
       "      <td>2024</td>\n",
       "      <td>December</td>\n",
       "      <td>2</td>\n",
       "      <td>0,48 %</td>\n",
       "      <td>270</td>\n",
       "      <td>56033</td>\n",
       "      <td>UX</td>\n",
       "    </tr>\n",
       "    <tr>\n",
       "      <th>7</th>\n",
       "      <td>2024</td>\n",
       "      <td>December</td>\n",
       "      <td>9</td>\n",
       "      <td>0,00 %</td>\n",
       "      <td>0</td>\n",
       "      <td>54476</td>\n",
       "      <td>Finished</td>\n",
       "    </tr>\n",
       "    <tr>\n",
       "      <th>8</th>\n",
       "      <td>2024</td>\n",
       "      <td>December</td>\n",
       "      <td>9</td>\n",
       "      <td>0,26 %</td>\n",
       "      <td>140</td>\n",
       "      <td>54476</td>\n",
       "      <td>Other</td>\n",
       "    </tr>\n",
       "    <tr>\n",
       "      <th>9</th>\n",
       "      <td>2024</td>\n",
       "      <td>December</td>\n",
       "      <td>9</td>\n",
       "      <td>0,47 %</td>\n",
       "      <td>256</td>\n",
       "      <td>54476</td>\n",
       "      <td>Partner</td>\n",
       "    </tr>\n",
       "    <tr>\n",
       "      <th>10</th>\n",
       "      <td>2024</td>\n",
       "      <td>December</td>\n",
       "      <td>9</td>\n",
       "      <td>1,38 %</td>\n",
       "      <td>754</td>\n",
       "      <td>54476</td>\n",
       "      <td>RT</td>\n",
       "    </tr>\n",
       "    <tr>\n",
       "      <th>11</th>\n",
       "      <td>2024</td>\n",
       "      <td>December</td>\n",
       "      <td>9</td>\n",
       "      <td>0,30 %</td>\n",
       "      <td>166</td>\n",
       "      <td>54476</td>\n",
       "      <td>Tech</td>\n",
       "    </tr>\n",
       "    <tr>\n",
       "      <th>12</th>\n",
       "      <td>2024</td>\n",
       "      <td>December</td>\n",
       "      <td>9</td>\n",
       "      <td>0,72 %</td>\n",
       "      <td>390</td>\n",
       "      <td>54476</td>\n",
       "      <td>User</td>\n",
       "    </tr>\n",
       "    <tr>\n",
       "      <th>13</th>\n",
       "      <td>2024</td>\n",
       "      <td>December</td>\n",
       "      <td>9</td>\n",
       "      <td>0,55 %</td>\n",
       "      <td>297</td>\n",
       "      <td>54476</td>\n",
       "      <td>UX</td>\n",
       "    </tr>\n",
       "  </tbody>\n",
       "</table>\n",
       "</div>"
      ],
      "text/plain": [
       "    Year     Month  Day CANCEL_RATE  CANCEL_ORDERS  TOTAL_ORDERS  CATEGORY\n",
       "0   2024  December    2      0,00 %              0         56033  Finished\n",
       "1   2024  December    2      0,24 %            136         56033     Other\n",
       "2   2024  December    2      0,44 %            247         56033   Partner\n",
       "3   2024  December    2      1,28 %            715         56033        RT\n",
       "4   2024  December    2      0,29 %            162         56033      Tech\n",
       "5   2024  December    2      0,69 %            384         56033      User\n",
       "6   2024  December    2      0,48 %            270         56033        UX\n",
       "7   2024  December    9      0,00 %              0         54476  Finished\n",
       "8   2024  December    9      0,26 %            140         54476     Other\n",
       "9   2024  December    9      0,47 %            256         54476   Partner\n",
       "10  2024  December    9      1,38 %            754         54476        RT\n",
       "11  2024  December    9      0,30 %            166         54476      Tech\n",
       "12  2024  December    9      0,72 %            390         54476      User\n",
       "13  2024  December    9      0,55 %            297         54476        UX"
      ]
     },
     "execution_count": 109,
     "metadata": {},
     "output_type": "execute_result"
    }
   ],
   "source": [
    "#Leemos el csv que extraemos de Control Panel solo 2 Semanas LW y This Week\n",
    "df = pd.read_csv(\"PMPUEBLA.csv\")\n",
    "df"
   ]
  },
  {
   "cell_type": "code",
   "execution_count": 110,
   "id": "40b6cdf9",
   "metadata": {},
   "outputs": [
    {
     "name": "stdout",
     "output_type": "stream",
     "text": [
      "<class 'dict'>\n",
      "{2:    Year     Month  Day CANCEL_RATE  CANCEL_ORDERS  TOTAL_ORDERS  CATEGORY\n",
      "0  2024  December    2      0,00 %              0         56033  Finished\n",
      "1  2024  December    2      0,24 %            136         56033     Other\n",
      "2  2024  December    2      0,44 %            247         56033   Partner\n",
      "3  2024  December    2      1,28 %            715         56033        RT\n",
      "4  2024  December    2      0,29 %            162         56033      Tech\n",
      "5  2024  December    2      0,69 %            384         56033      User\n",
      "6  2024  December    2      0,48 %            270         56033        UX, 9:     Year     Month  Day CANCEL_RATE  CANCEL_ORDERS  TOTAL_ORDERS  CATEGORY\n",
      "7   2024  December    9      0,00 %              0         54476  Finished\n",
      "8   2024  December    9      0,26 %            140         54476     Other\n",
      "9   2024  December    9      0,47 %            256         54476   Partner\n",
      "10  2024  December    9      1,38 %            754         54476        RT\n",
      "11  2024  December    9      0,30 %            166         54476      Tech\n",
      "12  2024  December    9      0,72 %            390         54476      User\n",
      "13  2024  December    9      0,55 %            297         54476        UX}\n"
     ]
    }
   ],
   "source": [
    "#Agrupamos el Dataframe por semana y creamos el diccionario con Key definida por numero de dia \n",
    "dfs_by_day = {day: subset for day, subset in df.groupby('Day')}\n",
    "print(type(dfs_by_day))\n",
    "print(dfs_by_day)"
   ]
  },
  {
   "cell_type": "code",
   "execution_count": 111,
   "id": "ece37252",
   "metadata": {},
   "outputs": [
    {
     "name": "stdout",
     "output_type": "stream",
     "text": [
      "   Year     Month  Day CANCEL_RATE  CANCEL_ORDERS  TOTAL_ORDERS  CATEGORY\n",
      "0  2024  December    2      0,00 %              0         56033  Finished\n",
      "1  2024  December    2      0,24 %            136         56033     Other\n",
      "2  2024  December    2      0,44 %            247         56033   Partner\n",
      "3  2024  December    2      1,28 %            715         56033        RT\n",
      "4  2024  December    2      0,29 %            162         56033      Tech\n",
      "5  2024  December    2      0,69 %            384         56033      User\n",
      "6  2024  December    2      0,48 %            270         56033        UX\n"
     ]
    }
   ],
   "source": [
    "#Imprimimos el Dataframe para corroborar que se secciono por dia \n",
    "print(dfs_by_day[2]) #Key de numero de semana cambiar\n",
    "\n"
   ]
  },
  {
   "cell_type": "code",
   "execution_count": 112,
   "id": "4db22f2c",
   "metadata": {},
   "outputs": [
    {
     "name": "stdout",
     "output_type": "stream",
     "text": [
      "    Year     Month  Day CANCEL_RATE  CANCEL_ORDERS  TOTAL_ORDERS  CATEGORY\n",
      "7   2024  December    9      0,00 %              0         54476  Finished\n",
      "8   2024  December    9      0,26 %            140         54476     Other\n",
      "9   2024  December    9      0,47 %            256         54476   Partner\n",
      "10  2024  December    9      1,38 %            754         54476        RT\n",
      "11  2024  December    9      0,30 %            166         54476      Tech\n",
      "12  2024  December    9      0,72 %            390         54476      User\n",
      "13  2024  December    9      0,55 %            297         54476        UX\n"
     ]
    }
   ],
   "source": [
    "#Imprimimos el Dataframe para corroborar que se secciono por dia\n",
    "print(dfs_by_day[9]) #Key de numero de semana cambiar"
   ]
  },
  {
   "cell_type": "markdown",
   "id": "b9f9d644",
   "metadata": {},
   "source": [
    "### Categoria RT"
   ]
  },
  {
   "cell_type": "code",
   "execution_count": 113,
   "id": "7f297783",
   "metadata": {},
   "outputs": [
    {
     "name": "stdout",
     "output_type": "stream",
     "text": [
      "<class 'str'>\n",
      "<class 'str'>\n",
      "CANCEL_RATE para RT LW: 1,28 %\n",
      "CANCEL_RATE para RT This Week: 1,38 %\n"
     ]
    }
   ],
   "source": [
    "# Filtrar el CANCEL_RATE Last Week\n",
    "#cambiar numero de semanas\n",
    "rt_lw = dfs_by_day[2].loc[dfs_by_day[2]['CATEGORY'] == 'RT', 'CANCEL_RATE'].values[0]\n",
    "\n",
    "# Filtrar el CANCEL_RATE This Week\n",
    "#cambiar numero de semanas\n",
    "rt_today = dfs_by_day[9].loc[dfs_by_day[9]['CATEGORY'] == 'RT', 'CANCEL_RATE'].values[0]\n",
    "\n",
    "# Imprimir los resultados\n",
    "print(type(rt_lw))\n",
    "print(type(rt_today))\n",
    "print(f'CANCEL_RATE para RT LW: {rt_lw}')\n",
    "print(f'CANCEL_RATE para RT This Week: {rt_today}')\n",
    "\n",
    "\n"
   ]
  },
  {
   "cell_type": "code",
   "execution_count": 114,
   "id": "49ad51be",
   "metadata": {},
   "outputs": [
    {
     "name": "stdout",
     "output_type": "stream",
     "text": [
      "<class 'dict'>\n",
      "{'rt_lw': '1,28 %'}\n",
      "<class 'dict'>\n",
      "{'rt_today': '1,38 %'}\n"
     ]
    }
   ],
   "source": [
    "#Convertimos valor a diccionario para cargarlo al doc\n",
    "rtlw = {\"rt_lw\":rt_lw}\n",
    "print(type(rtlw))\n",
    "print(rtlw)\n",
    "rttw = {\"rt_today\":rt_today}\n",
    "print(type(rttw))\n",
    "print(rttw)\n"
   ]
  },
  {
   "cell_type": "markdown",
   "id": "6e2f3519",
   "metadata": {},
   "source": [
    "### Categoria Partner"
   ]
  },
  {
   "cell_type": "code",
   "execution_count": 115,
   "id": "5abc3eef",
   "metadata": {},
   "outputs": [
    {
     "name": "stdout",
     "output_type": "stream",
     "text": [
      "<class 'str'>\n",
      "<class 'str'>\n",
      "CANCEL_RATE para Partner LW: 0,44 %\n",
      "CANCEL_RATE para Partner This Week: 0,47 %\n"
     ]
    }
   ],
   "source": [
    "# Filtrar el CANCEL_RATE Last Week\n",
    "#cambiar numero de semanas\n",
    "partner_lw = dfs_by_day[2].loc[dfs_by_day[2]['CATEGORY'] == 'Partner', 'CANCEL_RATE'].values[0]\n",
    "\n",
    "# Filtrar el CANCEL_RATE This Week\n",
    "#cambiar numero de semanas\n",
    "partner_today = dfs_by_day[9].loc[dfs_by_day[9]['CATEGORY'] == 'Partner', 'CANCEL_RATE'].values[0]\n",
    "\n",
    "# Imprimir los resultados\n",
    "print(type(partner_lw))\n",
    "print(type(partner_today))\n",
    "print(f'CANCEL_RATE para Partner LW: {partner_lw}')\n",
    "print(f'CANCEL_RATE para Partner This Week: {partner_today}')"
   ]
  },
  {
   "cell_type": "code",
   "execution_count": 116,
   "id": "0447144a",
   "metadata": {},
   "outputs": [
    {
     "name": "stdout",
     "output_type": "stream",
     "text": [
      "<class 'dict'>\n",
      "{'partner_lw': '0,44 %'}\n",
      "<class 'dict'>\n",
      "{'partner_today': '0,47 %'}\n"
     ]
    }
   ],
   "source": [
    "#Convertimos valor a diccionario para cargarlo al doc\n",
    "partnerlw = {\"partner_lw\":partner_lw}\n",
    "print(type(partnerlw))\n",
    "print(partnerlw)\n",
    "partnertw = {\"partner_today\":partner_today}\n",
    "print(type(partnertw))\n",
    "print(partnertw)"
   ]
  },
  {
   "cell_type": "markdown",
   "id": "3ab1efb8",
   "metadata": {},
   "source": [
    "### Categoria User"
   ]
  },
  {
   "cell_type": "code",
   "execution_count": 117,
   "id": "e9f2ebe9",
   "metadata": {},
   "outputs": [
    {
     "name": "stdout",
     "output_type": "stream",
     "text": [
      "<class 'str'>\n",
      "<class 'str'>\n",
      "CANCEL_RATE para User LW: 0,69 %\n",
      "CANCEL_RATE para User This Week: 0,72 %\n"
     ]
    }
   ],
   "source": [
    "# Filtrar el CANCEL_RATE Last Week\n",
    "#cambiar numero de semanas\n",
    "user_lw = dfs_by_day[2].loc[dfs_by_day[2]['CATEGORY'] == 'User', 'CANCEL_RATE'].values[0]\n",
    "\n",
    "# Filtrar el CANCEL_RATE This Week\n",
    "#cambiar numero de semanas\n",
    "user_today = dfs_by_day[9].loc[dfs_by_day[9]['CATEGORY'] == 'User', 'CANCEL_RATE'].values[0]\n",
    "\n",
    "# Imprimir los resultados\n",
    "print(type(user_lw))\n",
    "print(type(user_today))\n",
    "print(f'CANCEL_RATE para User LW: {user_lw}')\n",
    "print(f'CANCEL_RATE para User This Week: {user_today}')"
   ]
  },
  {
   "cell_type": "code",
   "execution_count": 118,
   "id": "96bfd302",
   "metadata": {},
   "outputs": [
    {
     "name": "stdout",
     "output_type": "stream",
     "text": [
      "<class 'dict'>\n",
      "{'user_lw': '0,69 %'}\n",
      "<class 'dict'>\n",
      "{'user_today': '0,72 %'}\n"
     ]
    }
   ],
   "source": [
    "#Convertimos valor a diccionario para cargarlo al doc\n",
    "userlw = {\"user_lw\":user_lw}\n",
    "print(type(userlw))\n",
    "print(userlw)\n",
    "usertw = {\"user_today\":user_today}\n",
    "print(type(usertw))\n",
    "print(usertw)"
   ]
  },
  {
   "cell_type": "markdown",
   "id": "64b8c38b",
   "metadata": {},
   "source": [
    "### Categoria UX"
   ]
  },
  {
   "cell_type": "code",
   "execution_count": 119,
   "id": "54d8af0b",
   "metadata": {},
   "outputs": [
    {
     "name": "stdout",
     "output_type": "stream",
     "text": [
      "<class 'str'>\n",
      "<class 'str'>\n",
      "CANCEL_RATE para Ux LW: 0,48 %\n",
      "CANCEL_RATE para Ux This Week: 0,55 %\n"
     ]
    }
   ],
   "source": [
    "# Filtrar el CANCEL_RATE Last Week\n",
    "#cambiar numero de semanas\n",
    "ux_lw = dfs_by_day[2].loc[dfs_by_day[2]['CATEGORY'] == 'UX', 'CANCEL_RATE'].values[0]\n",
    "\n",
    "# Filtrar el CANCEL_RATE This Week\n",
    "#cambiar numero de semanas\n",
    "ux_today = dfs_by_day[9].loc[dfs_by_day[9]['CATEGORY'] == 'UX', 'CANCEL_RATE'].values[0]\n",
    "\n",
    "# Imprimir los resultados\n",
    "print(type(ux_lw))\n",
    "print(type(ux_today))\n",
    "print(f'CANCEL_RATE para Ux LW: {ux_lw}')\n",
    "print(f'CANCEL_RATE para Ux This Week: {ux_today}')"
   ]
  },
  {
   "cell_type": "code",
   "execution_count": 120,
   "id": "cbe20d9c",
   "metadata": {},
   "outputs": [
    {
     "name": "stdout",
     "output_type": "stream",
     "text": [
      "<class 'dict'>\n",
      "{'ux_lw': '0,48 %'}\n",
      "<class 'dict'>\n",
      "{'ux_today': '0,55 %'}\n"
     ]
    }
   ],
   "source": [
    "#Convertimos valor a diccionario para cargarlo al doc\n",
    "uxlw = {\"ux_lw\":ux_lw}\n",
    "print(type(uxlw))\n",
    "print(uxlw)\n",
    "uxtw = {\"ux_today\":ux_today}\n",
    "print(type(uxtw))\n",
    "print(uxtw)"
   ]
  },
  {
   "cell_type": "markdown",
   "id": "7e3fbedd",
   "metadata": {},
   "source": [
    "### Categoria Tech"
   ]
  },
  {
   "cell_type": "code",
   "execution_count": 121,
   "id": "c719139e",
   "metadata": {},
   "outputs": [
    {
     "name": "stdout",
     "output_type": "stream",
     "text": [
      "<class 'str'>\n",
      "<class 'str'>\n",
      "CANCEL_RATE para tech LW: 0,29 %\n",
      "CANCEL_RATE para tech This Week: 0,30 %\n"
     ]
    }
   ],
   "source": [
    "# Filtrar el CANCEL_RATE Last Week\n",
    "#cambiar numero de semanas\n",
    "tech_lw = dfs_by_day[2].loc[dfs_by_day[2]['CATEGORY'] == 'Tech', 'CANCEL_RATE'].values[0]\n",
    "\n",
    "# Filtrar el CANCEL_RATE This Week\n",
    "#cambiar numero de semanas\n",
    "tech_today = dfs_by_day[9].loc[dfs_by_day[9]['CATEGORY'] == 'Tech', 'CANCEL_RATE'].values[0]\n",
    "\n",
    "# Imprimir los resultados\n",
    "print(type(tech_lw))\n",
    "print(type(tech_today))\n",
    "print(f'CANCEL_RATE para tech LW: {tech_lw}')\n",
    "print(f'CANCEL_RATE para tech This Week: {tech_today}')"
   ]
  },
  {
   "cell_type": "code",
   "execution_count": 122,
   "id": "da741cb7",
   "metadata": {},
   "outputs": [
    {
     "name": "stdout",
     "output_type": "stream",
     "text": [
      "<class 'dict'>\n",
      "{'tech_lw': '0,29 %'}\n",
      "<class 'dict'>\n",
      "{'tech_today': '0,30 %'}\n"
     ]
    }
   ],
   "source": [
    "#Convertimos valor a diccionario para cargarlo al doc\n",
    "techlw = {\"tech_lw\":tech_lw}\n",
    "print(type(techlw))\n",
    "print(techlw)\n",
    "techtw = {\"tech_today\":tech_today}\n",
    "print(type(techtw))\n",
    "print(techtw)"
   ]
  },
  {
   "cell_type": "markdown",
   "id": "be8b8ef7",
   "metadata": {},
   "source": [
    "### Inserccion al documento"
   ]
  },
  {
   "cell_type": "code",
   "execution_count": 123,
   "id": "1979f879",
   "metadata": {},
   "outputs": [
    {
     "data": {
      "text/plain": [
       "'constantes = {\"ciudad\":ciudad, \"fecha\":fecha}\\nconstantes.update(rtlw)\\nconstantes.update(rttw)\\nconstantes.update(partnerlw)\\nconstantes.update(partnertw)\\nconstantes.update(userlw)\\nconstantes.update(usertw)\\nconstantes.update(uxlw)\\nconstantes.update(uxtw)\\nconstantes.update(techlw)\\nconstantes.update(techtw)\\nprint(constantes)'"
      ]
     },
     "execution_count": 123,
     "metadata": {},
     "output_type": "execute_result"
    }
   ],
   "source": [
    "#Hacemos el update de los diccionarios para poder cargarlos al doc\n",
    "\"\"\"constantes = {\"ciudad\":ciudad, \"fecha\":fecha}\n",
    "constantes.update(rtlw)\n",
    "constantes.update(rttw)\n",
    "constantes.update(partnerlw)\n",
    "constantes.update(partnertw)\n",
    "constantes.update(userlw)\n",
    "constantes.update(usertw)\n",
    "constantes.update(uxlw)\n",
    "constantes.update(uxtw)\n",
    "constantes.update(techlw)\n",
    "constantes.update(techtw)\n",
    "print(constantes)\"\"\""
   ]
  },
  {
   "cell_type": "code",
   "execution_count": 124,
   "id": "8d7519a9",
   "metadata": {},
   "outputs": [
    {
     "data": {
      "text/plain": [
       "'doc.render(constantes) #Variable de cosas fijas en el Pm\\ndoc.save(f\"prueba.docx\")'"
      ]
     },
     "execution_count": 124,
     "metadata": {},
     "output_type": "execute_result"
    }
   ],
   "source": [
    "#cargamos las variables que se colocaran en el documento para RT\n",
    "\"\"\"doc.render(constantes) #Variable de cosas fijas en el Pm\n",
    "doc.save(f\"prueba.docx\")\"\"\""
   ]
  },
  {
   "cell_type": "markdown",
   "id": "cbfaa87f",
   "metadata": {},
   "source": [
    "### Comparacion de valores cual es la razon Wo"
   ]
  },
  {
   "cell_type": "code",
   "execution_count": 128,
   "id": "a19124da",
   "metadata": {},
   "outputs": [
    {
     "name": "stdout",
     "output_type": "stream",
     "text": [
      "RT es la categoria con mayor CANCEL_RATE\n",
      "{'catwo': 'RT es la categoria Wo'}\n",
      "{'valorwo': '1,38 %'}\n"
     ]
    }
   ],
   "source": [
    "#Nota lo que se evalua en los IFS es la variable que es tipo string\n",
    "if rt_today > partner_today and rt_today > user_today and rt_today > ux_today and rt_today > tech_today:\n",
    "    print(\"RT es la categoria con mayor CANCEL_RATE\")\n",
    "    mensaje = \"RT es la categoria Wo\"\n",
    "    valorwo = {\"valorwo\":rt_today}\n",
    "    catwo = {\"catwo\":mensaje}\n",
    "    print(catwo)\n",
    "    print(valorwo)\n",
    "elif partner_today > rt_today and partner_today > user_today and partner_today > ux_today and partner_today > tech_today:\n",
    "    print(\"Partner es la categoria con mayor CANCEL_RATE\")\n",
    "    mensaje = \"Partner es la categoria Wo\"\n",
    "    valorwo = {\"valorwo\":partner_today}\n",
    "    catwo = {\"catwo\":mensaje}\n",
    "    print(catwo)\n",
    "    print(valorwo)\n",
    "elif user_today > rt_today and user_today > partner_today and user_today > ux_today and user_today > tech_today:\n",
    "    print(\"User es la categoria con mayor CANCEL_RATE\")\n",
    "    mensaje = \"User es la categoria Wo\"\n",
    "    valorwo = {\"valorwo\":user_today}\n",
    "    catwo = {\"catwo\":mensaje}\n",
    "    print(catwo)\n",
    "    print(valorwo)\n",
    "elif ux_today > rt_today and ux_today > partner_today and ux_today > user_today and ux_today > tech_today:\n",
    "    print(\"UX es la categoria con mayor CANCEL_RATE\")\n",
    "    mensaje = \"UX es la categoria Wo\"\n",
    "    valorwo = {\"valorwo\":ux_today}\n",
    "    catwo = {\"catwo\":mensaje}\n",
    "    print(catwo)\n",
    "    print(valorwo)\n",
    "elif tech_today > rt_today and tech_today > partner_today and tech_today > user_today and tech_today > ux_today:\n",
    "    print(\"Tech es la categoria con mayor CANCEL_RATE\")\n",
    "    mensaje = \"Tech es la categoria Wo\"\n",
    "    valorwo = {\"valorwo\":tech_today}\n",
    "    catwo = {\"catwo\":mensaje}\n",
    "    print(catwo)\n",
    "    print(valorwo)"
   ]
  },
  {
   "cell_type": "code",
   "execution_count": 126,
   "id": "fff223ae",
   "metadata": {},
   "outputs": [
    {
     "name": "stdout",
     "output_type": "stream",
     "text": [
      "{'ciudad': 'Puebla', 'fecha': '19/12/2024', 'rt_lw': '1,28 %', 'rt_today': '1,38 %', 'partner_lw': '0,44 %', 'partner_today': '0,47 %', 'user_lw': '0,69 %', 'user_today': '0,72 %', 'ux_lw': '0,48 %', 'ux_today': '0,55 %', 'tech_lw': '0,29 %', 'tech_today': '0,30 %', 'valorwo': '1,38 %', 'catwo': 'RT es la categoria Wo '}\n"
     ]
    }
   ],
   "source": [
    "constantes = {\"ciudad\":ciudad, \"fecha\":fecha}\n",
    "constantes.update(rtlw)\n",
    "constantes.update(rttw)\n",
    "constantes.update(partnerlw)\n",
    "constantes.update(partnertw)\n",
    "constantes.update(userlw)\n",
    "constantes.update(usertw)\n",
    "constantes.update(uxlw)\n",
    "constantes.update(uxtw)\n",
    "constantes.update(techlw)\n",
    "constantes.update(techtw)\n",
    "constantes.update(valorwo)\n",
    "constantes.update(catwo)\n",
    "print(constantes)\n"
   ]
  },
  {
   "cell_type": "code",
   "execution_count": 127,
   "id": "128b6618",
   "metadata": {},
   "outputs": [],
   "source": [
    "doc.render(constantes) #Variable de cosas fijas en el Pm\n",
    "doc.save(f\"prueba.docx\")"
   ]
  }
 ],
 "metadata": {
  "kernelspec": {
   "display_name": "base",
   "language": "python",
   "name": "python3"
  },
  "language_info": {
   "codemirror_mode": {
    "name": "ipython",
    "version": 3
   },
   "file_extension": ".py",
   "mimetype": "text/x-python",
   "name": "python",
   "nbconvert_exporter": "python",
   "pygments_lexer": "ipython3",
   "version": "3.12.7"
  }
 },
 "nbformat": 4,
 "nbformat_minor": 5
}
